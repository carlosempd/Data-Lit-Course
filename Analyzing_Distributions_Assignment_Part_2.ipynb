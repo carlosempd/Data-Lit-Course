{
  "nbformat": 4,
  "nbformat_minor": 0,
  "metadata": {
    "colab": {
      "name": "Analyzing_Distributions_Assignment_Part_2.ipynb",
      "version": "0.3.2",
      "provenance": [],
      "collapsed_sections": [],
      "include_colab_link": true
    },
    "kernelspec": {
      "name": "python3",
      "display_name": "Python 3"
    }
  },
  "cells": [
    {
      "cell_type": "markdown",
      "metadata": {
        "id": "view-in-github",
        "colab_type": "text"
      },
      "source": [
        "<a href=\"https://colab.research.google.com/github/carlosempd/Data-Lit-Course/blob/master/Analyzing_Distributions_Assignment_Part_2.ipynb\" target=\"_parent\"><img src=\"https://colab.research.google.com/assets/colab-badge.svg\" alt=\"Open In Colab\"/></a>"
      ]
    },
    {
      "cell_type": "code",
      "metadata": {
        "id": "wWXAmwCwf2Eb",
        "colab_type": "code",
        "colab": {}
      },
      "source": [
        "# Import libraries\n",
        "import pandas as pd\n",
        "from matplotlib import pyplot as plt\n",
        "import seaborn as sns\n",
        "from statistics import mean, stdev"
      ],
      "execution_count": 0,
      "outputs": []
    },
    {
      "cell_type": "code",
      "metadata": {
        "id": "N8sN9HKCgT_E",
        "colab_type": "code",
        "colab": {
          "base_uri": "https://localhost:8080/",
          "height": 359
        },
        "outputId": "47021784-bd89-427c-ade6-9ab028b10a56"
      },
      "source": [
        "df = pd.read_csv('formatted_flights.csv')\n",
        "df = df.drop('Unnamed: 0', axis=1)\n",
        "df.head(10)"
      ],
      "execution_count": 7,
      "outputs": [
        {
          "output_type": "execute_result",
          "data": {
            "text/html": [
              "<div>\n",
              "<style scoped>\n",
              "    .dataframe tbody tr th:only-of-type {\n",
              "        vertical-align: middle;\n",
              "    }\n",
              "\n",
              "    .dataframe tbody tr th {\n",
              "        vertical-align: top;\n",
              "    }\n",
              "\n",
              "    .dataframe thead th {\n",
              "        text-align: right;\n",
              "    }\n",
              "</style>\n",
              "<table border=\"1\" class=\"dataframe\">\n",
              "  <thead>\n",
              "    <tr style=\"text-align: right;\">\n",
              "      <th></th>\n",
              "      <th>arr_delay</th>\n",
              "      <th>name</th>\n",
              "    </tr>\n",
              "  </thead>\n",
              "  <tbody>\n",
              "    <tr>\n",
              "      <th>0</th>\n",
              "      <td>11.0</td>\n",
              "      <td>United Air Lines Inc.</td>\n",
              "    </tr>\n",
              "    <tr>\n",
              "      <th>1</th>\n",
              "      <td>20.0</td>\n",
              "      <td>United Air Lines Inc.</td>\n",
              "    </tr>\n",
              "    <tr>\n",
              "      <th>2</th>\n",
              "      <td>33.0</td>\n",
              "      <td>American Airlines Inc.</td>\n",
              "    </tr>\n",
              "    <tr>\n",
              "      <th>3</th>\n",
              "      <td>-18.0</td>\n",
              "      <td>JetBlue Airways</td>\n",
              "    </tr>\n",
              "    <tr>\n",
              "      <th>4</th>\n",
              "      <td>-25.0</td>\n",
              "      <td>Delta Air Lines Inc.</td>\n",
              "    </tr>\n",
              "    <tr>\n",
              "      <th>5</th>\n",
              "      <td>12.0</td>\n",
              "      <td>United Air Lines Inc.</td>\n",
              "    </tr>\n",
              "    <tr>\n",
              "      <th>6</th>\n",
              "      <td>19.0</td>\n",
              "      <td>JetBlue Airways</td>\n",
              "    </tr>\n",
              "    <tr>\n",
              "      <th>7</th>\n",
              "      <td>-14.0</td>\n",
              "      <td>ExpressJet Airlines Inc.</td>\n",
              "    </tr>\n",
              "    <tr>\n",
              "      <th>8</th>\n",
              "      <td>-8.0</td>\n",
              "      <td>JetBlue Airways</td>\n",
              "    </tr>\n",
              "    <tr>\n",
              "      <th>9</th>\n",
              "      <td>8.0</td>\n",
              "      <td>American Airlines Inc.</td>\n",
              "    </tr>\n",
              "  </tbody>\n",
              "</table>\n",
              "</div>"
            ],
            "text/plain": [
              "   arr_delay                      name\n",
              "0       11.0     United Air Lines Inc.\n",
              "1       20.0     United Air Lines Inc.\n",
              "2       33.0    American Airlines Inc.\n",
              "3      -18.0           JetBlue Airways\n",
              "4      -25.0      Delta Air Lines Inc.\n",
              "5       12.0     United Air Lines Inc.\n",
              "6       19.0           JetBlue Airways\n",
              "7      -14.0  ExpressJet Airlines Inc.\n",
              "8       -8.0           JetBlue Airways\n",
              "9        8.0    American Airlines Inc."
            ]
          },
          "metadata": {
            "tags": []
          },
          "execution_count": 7
        }
      ]
    },
    {
      "cell_type": "code",
      "metadata": {
        "id": "005jFizkiwYO",
        "colab_type": "code",
        "colab": {
          "base_uri": "https://localhost:8080/",
          "height": 51
        },
        "outputId": "77f66c5f-5df6-4366-e04e-ff165352381f"
      },
      "source": [
        "sample = df.arr_delay.sample(n=1000, random_state = 1)\n",
        "print(sample.mean())\n",
        "print(sample.std())"
      ],
      "execution_count": 8,
      "outputs": [
        {
          "output_type": "stream",
          "text": [
            "1.809\n",
            "28.298893023338316\n"
          ],
          "name": "stdout"
        }
      ]
    },
    {
      "cell_type": "code",
      "metadata": {
        "id": "PzoX1Fq7kJF7",
        "colab_type": "code",
        "colab": {
          "base_uri": "https://localhost:8080/",
          "height": 71
        },
        "outputId": "ea79c064-864f-44f8-e396-629a6900d8da"
      },
      "source": [
        "means = []\n",
        "stds = []\n",
        "\n",
        "for i in range(100):\n",
        "  smple = df.arr_delay.sample(n=1000, random_state=i)\n",
        "  means.append(smple.mean())\n",
        "  stds.append(smple.std())\n",
        "  \n",
        "print(means)\n",
        "print(stds)\n"
      ],
      "execution_count": 9,
      "outputs": [
        {
          "output_type": "stream",
          "text": [
            "[0.225, 1.809, 0.402, 2.965, 2.336, 0.605, 2.78, 2.246, 0.909, 0.302, 1.083, 0.411, 0.344, 1.842, 1.891, 0.97, 2.288, 3.25, 0.844, 2.004, 1.057, 1.928, 1.675, 1.842, 3.289, -0.771, 1.282, 1.186, 2.018, 2.484, 2.053, 0.872, 0.244, 0.866, 0.926, 0.836, 0.008, 1.004, 1.384, 1.346, 1.871, 1.542, 0.768, 2.215, 1.909, 2.297, 1.165, 2.423, 1.32, 1.081, 2.175, 0.788, 2.009, 1.82, 1.126, -0.58, 1.469, 2.069, 1.996, 3.27, 0.944, -0.241, 0.829, 2.039, 1.466, 1.298, 1.198, 1.212, 2.155, 2.055, 2.495, 0.878, 1.099, 0.387, 2.028, 0.737, -0.139, 1.095, 1.201, 0.492, 2.015, 2.458, 1.084, 1.677, 2.904, 1.45, 0.222, 0.702, 1.946, 1.36, 2.668, 1.654, 1.863, 0.016, 1.442, 1.291, 0.328, 1.25, 0.712, 1.033]\n",
            "[28.97212037043132, 28.298893023338316, 29.211431045118324, 31.3176718734259, 29.360230365702645, 28.06700432414784, 29.852148176483887, 29.04729297592513, 28.966908720137866, 28.301692207035636, 26.78614583340813, 27.327401374186024, 26.648824060806575, 28.87554039031705, 30.26660182752905, 28.21072393514468, 30.333433257268798, 30.445104769148102, 29.239880892962525, 29.209127976664377, 28.73752941010406, 29.40829243025954, 29.64567828944445, 29.950760993405225, 29.903640358770826, 26.73101393711256, 30.957629929483478, 29.896006007076853, 30.517355471681736, 30.45865186566, 30.047346538988055, 28.90181535701401, 28.808755759463253, 28.754632198532335, 29.790636213515253, 28.399676858120152, 29.000188739850415, 28.34701990575972, 30.200274843130142, 30.461191181044956, 29.008064858360136, 29.272531785226864, 28.402797307569813, 29.605662807481114, 29.928655891025972, 29.42795942289909, 29.5057683405358, 30.599647210538386, 29.866395858918118, 28.024771664133628, 28.65602105217225, 29.450779351392292, 28.619818535640885, 27.95523376928006, 29.48106608074509, 26.91784111272988, 29.133997817478274, 30.114068076168255, 28.904626990526282, 30.493391857039267, 30.398502149496313, 28.614081929789155, 28.33921081946126, 29.759958570773154, 29.253625734575493, 29.12709363433952, 29.07814186522814, 28.088538979840443, 29.466510656171184, 30.06922235664125, 29.139201568815643, 28.56766051372123, 28.4152181695588, 28.66654848428744, 29.006561268040667, 28.277330822382066, 28.354111423824133, 30.48638047381803, 28.286086715940353, 28.888622128590484, 29.039525978725422, 29.88259033626777, 29.69873665594141, 29.277326258263972, 29.93012857634591, 29.37959599212789, 29.706214420137332, 29.00656092294597, 28.753292608601093, 30.254549042048794, 30.798544224140315, 27.771307666898398, 29.63022411628336, 28.448005783060303, 29.017178233464318, 28.092089357761978, 28.987940884387008, 28.379973976783752, 27.558856045680706, 29.356016192369946]\n"
          ],
          "name": "stdout"
        }
      ]
    },
    {
      "cell_type": "code",
      "metadata": {
        "id": "tl0WcXPToErs",
        "colab_type": "code",
        "colab": {
          "base_uri": "https://localhost:8080/",
          "height": 286
        },
        "outputId": "a7bb1ad9-e5f2-475c-f96e-ca30be0ed669"
      },
      "source": [
        "sns.distplot(means, kde=True)"
      ],
      "execution_count": 10,
      "outputs": [
        {
          "output_type": "execute_result",
          "data": {
            "text/plain": [
              "<matplotlib.axes._subplots.AxesSubplot at 0x7f3293c91cc0>"
            ]
          },
          "metadata": {
            "tags": []
          },
          "execution_count": 10
        },
        {
          "output_type": "display_data",
          "data": {
            "image/png": "[encoded data removed]",
            "text/plain": [
              "<Figure size 432x288 with 1 Axes>"
            ]
          },
          "metadata": {
            "tags": []
          }
        }
      ]
    },
    {
      "cell_type": "code",
      "metadata": {
        "id": "BQVMBie-xkuv",
        "colab_type": "code",
        "colab": {
          "base_uri": "https://localhost:8080/",
          "height": 71
        },
        "outputId": "86b008d4-891c-4098-f410-1a0d6c5d68f7"
      },
      "source": [
        "means2 = []\n",
        "stds2 = []\n",
        "\n",
        "for i in range (10000):\n",
        "  smple2 = df.arr_delay.sample(n=1000, random_state=i)\n",
        "  means2.append(smple2.mean())\n",
        "  stds2.append(smple2.std())\n",
        "  \n",
        "print(means2[:100])\n",
        "print(stds2[:100])\n"
      ],
      "execution_count": 11,
      "outputs": [
        {
          "output_type": "stream",
          "text": [
            "[0.225, 1.809, 0.402, 2.965, 2.336, 0.605, 2.78, 2.246, 0.909, 0.302, 1.083, 0.411, 0.344, 1.842, 1.891, 0.97, 2.288, 3.25, 0.844, 2.004, 1.057, 1.928, 1.675, 1.842, 3.289, -0.771, 1.282, 1.186, 2.018, 2.484, 2.053, 0.872, 0.244, 0.866, 0.926, 0.836, 0.008, 1.004, 1.384, 1.346, 1.871, 1.542, 0.768, 2.215, 1.909, 2.297, 1.165, 2.423, 1.32, 1.081, 2.175, 0.788, 2.009, 1.82, 1.126, -0.58, 1.469, 2.069, 1.996, 3.27, 0.944, -0.241, 0.829, 2.039, 1.466, 1.298, 1.198, 1.212, 2.155, 2.055, 2.495, 0.878, 1.099, 0.387, 2.028, 0.737, -0.139, 1.095, 1.201, 0.492, 2.015, 2.458, 1.084, 1.677, 2.904, 1.45, 0.222, 0.702, 1.946, 1.36, 2.668, 1.654, 1.863, 0.016, 1.442, 1.291, 0.328, 1.25, 0.712, 1.033]\n",
            "[28.97212037043132, 28.298893023338316, 29.211431045118324, 31.3176718734259, 29.360230365702645, 28.06700432414784, 29.852148176483887, 29.04729297592513, 28.966908720137866, 28.301692207035636, 26.78614583340813, 27.327401374186024, 26.648824060806575, 28.87554039031705, 30.26660182752905, 28.21072393514468, 30.333433257268798, 30.445104769148102, 29.239880892962525, 29.209127976664377, 28.73752941010406, 29.40829243025954, 29.64567828944445, 29.950760993405225, 29.903640358770826, 26.73101393711256, 30.957629929483478, 29.896006007076853, 30.517355471681736, 30.45865186566, 30.047346538988055, 28.90181535701401, 28.808755759463253, 28.754632198532335, 29.790636213515253, 28.399676858120152, 29.000188739850415, 28.34701990575972, 30.200274843130142, 30.461191181044956, 29.008064858360136, 29.272531785226864, 28.402797307569813, 29.605662807481114, 29.928655891025972, 29.42795942289909, 29.5057683405358, 30.599647210538386, 29.866395858918118, 28.024771664133628, 28.65602105217225, 29.450779351392292, 28.619818535640885, 27.95523376928006, 29.48106608074509, 26.91784111272988, 29.133997817478274, 30.114068076168255, 28.904626990526282, 30.493391857039267, 30.398502149496313, 28.614081929789155, 28.33921081946126, 29.759958570773154, 29.253625734575493, 29.12709363433952, 29.07814186522814, 28.088538979840443, 29.466510656171184, 30.06922235664125, 29.139201568815643, 28.56766051372123, 28.4152181695588, 28.66654848428744, 29.006561268040667, 28.277330822382066, 28.354111423824133, 30.48638047381803, 28.286086715940353, 28.888622128590484, 29.039525978725422, 29.88259033626777, 29.69873665594141, 29.277326258263972, 29.93012857634591, 29.37959599212789, 29.706214420137332, 29.00656092294597, 28.753292608601093, 30.254549042048794, 30.798544224140315, 27.771307666898398, 29.63022411628336, 28.448005783060303, 29.017178233464318, 28.092089357761978, 28.987940884387008, 28.379973976783752, 27.558856045680706, 29.356016192369946]\n"
          ],
          "name": "stdout"
        }
      ]
    },
    {
      "cell_type": "code",
      "metadata": {
        "id": "fmagqB7e4On2",
        "colab_type": "code",
        "colab": {
          "base_uri": "https://localhost:8080/",
          "height": 286
        },
        "outputId": "803811f5-3e59-4d51-f001-dd510ccab1f7"
      },
      "source": [
        "sns.distplot(means2, kde=True)"
      ],
      "execution_count": 12,
      "outputs": [
        {
          "output_type": "execute_result",
          "data": {
            "text/plain": [
              "<matplotlib.axes._subplots.AxesSubplot at 0x7f3293b690f0>"
            ]
          },
          "metadata": {
            "tags": []
          },
          "execution_count": 12
        },
        {
          "output_type": "display_data",
          "data": {
            "image/png": "[encoded data removed]",
            "text/plain": [
              "<Figure size 432x288 with 1 Axes>"
            ]
          },
          "metadata": {
            "tags": []
          }
        }
      ]
    },
    {
      "cell_type": "code",
      "metadata": {
        "id": "f1Oqim17ovQ6",
        "colab_type": "code",
        "colab": {
          "base_uri": "https://localhost:8080/",
          "height": 68
        },
        "outputId": "bc918fb6-5abc-40ee-9b88-11b7ed8ece65"
      },
      "source": [
        "print(\"Mean of 1000 random samples = \", mean(means))\n",
        "print(\"Mean of 10000 random samples = \", mean(means2))\n",
        "print(\"Mean of the total population = \", df.arr_delay.mean())"
      ],
      "execution_count": 13,
      "outputs": [
        {
          "output_type": "stream",
          "text": [
            "Mean of 1000 random samples =  1.39071\n",
            "Mean of 10000 random samples =  1.3032489\n",
            "Mean of the total population =  1.2971432896160044\n"
          ],
          "name": "stdout"
        }
      ]
    },
    {
      "cell_type": "code",
      "metadata": {
        "id": "8IFiw0-AruH3",
        "colab_type": "code",
        "colab": {}
      },
      "source": [
        "\n",
        "# Means of the sets are approximately equal"
      ],
      "execution_count": 0,
      "outputs": []
    }
  ]
}